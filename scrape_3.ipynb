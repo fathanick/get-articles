{
  "nbformat": 4,
  "nbformat_minor": 0,
  "metadata": {
    "colab": {
      "provenance": []
    },
    "kernelspec": {
      "name": "python3",
      "display_name": "Python 3"
    },
    "language_info": {
      "name": "python"
    }
  },
  "cells": [
    {
      "cell_type": "code",
      "execution_count": 1,
      "metadata": {
        "colab": {
          "base_uri": "https://localhost:8080/"
        },
        "id": "0ZVXu1talv4S",
        "outputId": "24484387-7c11-47f1-c907-0bab99d42213"
      },
      "outputs": [
        {
          "output_type": "stream",
          "name": "stdout",
          "text": [
            "Collecting newspaper4k\n",
            "  Downloading newspaper4k-0.9.3.1-py3-none-any.whl.metadata (14 kB)\n",
            "Requirement already satisfied: Pillow>=4.0.0 in /usr/local/lib/python3.11/dist-packages (from newspaper4k) (11.1.0)\n",
            "Requirement already satisfied: PyYAML>=5.1 in /usr/local/lib/python3.11/dist-packages (from newspaper4k) (6.0.2)\n",
            "Requirement already satisfied: beautifulsoup4>=4.9.3 in /usr/local/lib/python3.11/dist-packages (from newspaper4k) (4.13.3)\n",
            "Collecting feedparser>=6.0.0 (from newspaper4k)\n",
            "  Downloading feedparser-6.0.11-py3-none-any.whl.metadata (2.4 kB)\n",
            "Requirement already satisfied: lxml>=4.2.0 in /usr/local/lib/python3.11/dist-packages (from newspaper4k) (5.3.1)\n",
            "Requirement already satisfied: nltk>=3.6.6 in /usr/local/lib/python3.11/dist-packages (from newspaper4k) (3.9.1)\n",
            "Requirement already satisfied: numpy>=1.25 in /usr/local/lib/python3.11/dist-packages (from newspaper4k) (1.26.4)\n",
            "Requirement already satisfied: pandas>=2.1.0 in /usr/local/lib/python3.11/dist-packages (from newspaper4k) (2.2.2)\n",
            "Requirement already satisfied: python-dateutil>=2.6.1 in /usr/local/lib/python3.11/dist-packages (from newspaper4k) (2.8.2)\n",
            "Requirement already satisfied: requests>=2.26.0 in /usr/local/lib/python3.11/dist-packages (from newspaper4k) (2.32.3)\n",
            "Collecting tldextract>=2.0.1 (from newspaper4k)\n",
            "  Downloading tldextract-5.1.3-py3-none-any.whl.metadata (11 kB)\n",
            "Requirement already satisfied: soupsieve>1.2 in /usr/local/lib/python3.11/dist-packages (from beautifulsoup4>=4.9.3->newspaper4k) (2.6)\n",
            "Requirement already satisfied: typing-extensions>=4.0.0 in /usr/local/lib/python3.11/dist-packages (from beautifulsoup4>=4.9.3->newspaper4k) (4.12.2)\n",
            "Collecting sgmllib3k (from feedparser>=6.0.0->newspaper4k)\n",
            "  Downloading sgmllib3k-1.0.0.tar.gz (5.8 kB)\n",
            "  Preparing metadata (setup.py) ... \u001b[?25l\u001b[?25hdone\n",
            "Requirement already satisfied: click in /usr/local/lib/python3.11/dist-packages (from nltk>=3.6.6->newspaper4k) (8.1.8)\n",
            "Requirement already satisfied: joblib in /usr/local/lib/python3.11/dist-packages (from nltk>=3.6.6->newspaper4k) (1.4.2)\n",
            "Requirement already satisfied: regex>=2021.8.3 in /usr/local/lib/python3.11/dist-packages (from nltk>=3.6.6->newspaper4k) (2024.11.6)\n",
            "Requirement already satisfied: tqdm in /usr/local/lib/python3.11/dist-packages (from nltk>=3.6.6->newspaper4k) (4.67.1)\n",
            "Requirement already satisfied: pytz>=2020.1 in /usr/local/lib/python3.11/dist-packages (from pandas>=2.1.0->newspaper4k) (2025.1)\n",
            "Requirement already satisfied: tzdata>=2022.7 in /usr/local/lib/python3.11/dist-packages (from pandas>=2.1.0->newspaper4k) (2025.1)\n",
            "Requirement already satisfied: six>=1.5 in /usr/local/lib/python3.11/dist-packages (from python-dateutil>=2.6.1->newspaper4k) (1.17.0)\n",
            "Requirement already satisfied: charset-normalizer<4,>=2 in /usr/local/lib/python3.11/dist-packages (from requests>=2.26.0->newspaper4k) (3.4.1)\n",
            "Requirement already satisfied: idna<4,>=2.5 in /usr/local/lib/python3.11/dist-packages (from requests>=2.26.0->newspaper4k) (3.10)\n",
            "Requirement already satisfied: urllib3<3,>=1.21.1 in /usr/local/lib/python3.11/dist-packages (from requests>=2.26.0->newspaper4k) (2.3.0)\n",
            "Requirement already satisfied: certifi>=2017.4.17 in /usr/local/lib/python3.11/dist-packages (from requests>=2.26.0->newspaper4k) (2025.1.31)\n",
            "Collecting requests-file>=1.4 (from tldextract>=2.0.1->newspaper4k)\n",
            "  Downloading requests_file-2.1.0-py2.py3-none-any.whl.metadata (1.7 kB)\n",
            "Requirement already satisfied: filelock>=3.0.8 in /usr/local/lib/python3.11/dist-packages (from tldextract>=2.0.1->newspaper4k) (3.17.0)\n",
            "Downloading newspaper4k-0.9.3.1-py3-none-any.whl (296 kB)\n",
            "\u001b[2K   \u001b[90m━━━━━━━━━━━━━━━━━━━━━━━━━━━━━━━━━━━━━━━━\u001b[0m \u001b[32m296.6/296.6 kB\u001b[0m \u001b[31m8.5 MB/s\u001b[0m eta \u001b[36m0:00:00\u001b[0m\n",
            "\u001b[?25hDownloading feedparser-6.0.11-py3-none-any.whl (81 kB)\n",
            "\u001b[2K   \u001b[90m━━━━━━━━━━━━━━━━━━━━━━━━━━━━━━━━━━━━━━━━\u001b[0m \u001b[32m81.3/81.3 kB\u001b[0m \u001b[31m5.1 MB/s\u001b[0m eta \u001b[36m0:00:00\u001b[0m\n",
            "\u001b[?25hDownloading tldextract-5.1.3-py3-none-any.whl (104 kB)\n",
            "\u001b[2K   \u001b[90m━━━━━━━━━━━━━━━━━━━━━━━━━━━━━━━━━━━━━━━━\u001b[0m \u001b[32m104.9/104.9 kB\u001b[0m \u001b[31m6.9 MB/s\u001b[0m eta \u001b[36m0:00:00\u001b[0m\n",
            "\u001b[?25hDownloading requests_file-2.1.0-py2.py3-none-any.whl (4.2 kB)\n",
            "Building wheels for collected packages: sgmllib3k\n",
            "  Building wheel for sgmllib3k (setup.py) ... \u001b[?25l\u001b[?25hdone\n",
            "  Created wheel for sgmllib3k: filename=sgmllib3k-1.0.0-py3-none-any.whl size=6047 sha256=28797aea61cf5df62a5dc8cb8423d50fb3e4fe6a1b55230dfc3ad2455ed74738\n",
            "  Stored in directory: /root/.cache/pip/wheels/3b/25/2a/105d6a15df6914f4d15047691c6c28f9052cc1173e40285d03\n",
            "Successfully built sgmllib3k\n",
            "Installing collected packages: sgmllib3k, feedparser, requests-file, tldextract, newspaper4k\n",
            "Successfully installed feedparser-6.0.11 newspaper4k-0.9.3.1 requests-file-2.1.0 sgmllib3k-1.0.0 tldextract-5.1.3\n",
            "Collecting lxml_html_clean\n",
            "  Downloading lxml_html_clean-0.4.1-py3-none-any.whl.metadata (2.4 kB)\n",
            "Requirement already satisfied: lxml in /usr/local/lib/python3.11/dist-packages (from lxml_html_clean) (5.3.1)\n",
            "Downloading lxml_html_clean-0.4.1-py3-none-any.whl (14 kB)\n",
            "Installing collected packages: lxml_html_clean\n",
            "Successfully installed lxml_html_clean-0.4.1\n",
            "Collecting googlesearch-python\n",
            "  Downloading googlesearch_python-1.3.0-py3-none-any.whl.metadata (3.4 kB)\n",
            "Requirement already satisfied: beautifulsoup4>=4.9 in /usr/local/lib/python3.11/dist-packages (from googlesearch-python) (4.13.3)\n",
            "Requirement already satisfied: requests>=2.20 in /usr/local/lib/python3.11/dist-packages (from googlesearch-python) (2.32.3)\n",
            "Requirement already satisfied: soupsieve>1.2 in /usr/local/lib/python3.11/dist-packages (from beautifulsoup4>=4.9->googlesearch-python) (2.6)\n",
            "Requirement already satisfied: typing-extensions>=4.0.0 in /usr/local/lib/python3.11/dist-packages (from beautifulsoup4>=4.9->googlesearch-python) (4.12.2)\n",
            "Requirement already satisfied: charset-normalizer<4,>=2 in /usr/local/lib/python3.11/dist-packages (from requests>=2.20->googlesearch-python) (3.4.1)\n",
            "Requirement already satisfied: idna<4,>=2.5 in /usr/local/lib/python3.11/dist-packages (from requests>=2.20->googlesearch-python) (3.10)\n",
            "Requirement already satisfied: urllib3<3,>=1.21.1 in /usr/local/lib/python3.11/dist-packages (from requests>=2.20->googlesearch-python) (2.3.0)\n",
            "Requirement already satisfied: certifi>=2017.4.17 in /usr/local/lib/python3.11/dist-packages (from requests>=2.20->googlesearch-python) (2025.1.31)\n",
            "Downloading googlesearch_python-1.3.0-py3-none-any.whl (5.6 kB)\n",
            "Installing collected packages: googlesearch-python\n",
            "Successfully installed googlesearch-python-1.3.0\n",
            "Requirement already satisfied: tqdm in /usr/local/lib/python3.11/dist-packages (4.67.1)\n",
            "Requirement already satisfied: pandas in /usr/local/lib/python3.11/dist-packages (2.2.2)\n",
            "Requirement already satisfied: numpy>=1.23.2 in /usr/local/lib/python3.11/dist-packages (from pandas) (1.26.4)\n",
            "Requirement already satisfied: python-dateutil>=2.8.2 in /usr/local/lib/python3.11/dist-packages (from pandas) (2.8.2)\n",
            "Requirement already satisfied: pytz>=2020.1 in /usr/local/lib/python3.11/dist-packages (from pandas) (2025.1)\n",
            "Requirement already satisfied: tzdata>=2022.7 in /usr/local/lib/python3.11/dist-packages (from pandas) (2025.1)\n",
            "Requirement already satisfied: six>=1.5 in /usr/local/lib/python3.11/dist-packages (from python-dateutil>=2.8.2->pandas) (1.17.0)\n",
            "Collecting langdetect\n",
            "  Downloading langdetect-1.0.9.tar.gz (981 kB)\n",
            "\u001b[2K     \u001b[90m━━━━━━━━━━━━━━━━━━━━━━━━━━━━━━━━━━━━━━━━\u001b[0m \u001b[32m981.5/981.5 kB\u001b[0m \u001b[31m16.6 MB/s\u001b[0m eta \u001b[36m0:00:00\u001b[0m\n",
            "\u001b[?25h  Preparing metadata (setup.py) ... \u001b[?25l\u001b[?25hdone\n",
            "Requirement already satisfied: six in /usr/local/lib/python3.11/dist-packages (from langdetect) (1.17.0)\n",
            "Building wheels for collected packages: langdetect\n",
            "  Building wheel for langdetect (setup.py) ... \u001b[?25l\u001b[?25hdone\n",
            "  Created wheel for langdetect: filename=langdetect-1.0.9-py3-none-any.whl size=993222 sha256=58d0ccc21fe86986e53683df35c548ce9204c972c8825df59cc066663277e71f\n",
            "  Stored in directory: /root/.cache/pip/wheels/0a/f2/b2/e5ca405801e05eb7c8ed5b3b4bcf1fcabcd6272c167640072e\n",
            "Successfully built langdetect\n",
            "Installing collected packages: langdetect\n",
            "Successfully installed langdetect-1.0.9\n"
          ]
        }
      ],
      "source": [
        "!pip install newspaper4k\n",
        "!pip install lxml_html_clean\n",
        "!pip install googlesearch-python\n",
        "!pip install tqdm\n",
        "!pip install pandas\n",
        "!pip install langdetect"
      ]
    },
    {
      "cell_type": "code",
      "source": [
        "!pip install ace_tools"
      ],
      "metadata": {
        "colab": {
          "base_uri": "https://localhost:8080/"
        },
        "id": "_W9TfhYll2Dv",
        "outputId": "fa8ae8af-a920-4df6-8b82-e3602c739f5c"
      },
      "execution_count": 2,
      "outputs": [
        {
          "output_type": "stream",
          "name": "stdout",
          "text": [
            "Collecting ace_tools\n",
            "  Downloading ace_tools-0.0-py3-none-any.whl.metadata (300 bytes)\n",
            "Downloading ace_tools-0.0-py3-none-any.whl (1.1 kB)\n",
            "Installing collected packages: ace_tools\n",
            "Successfully installed ace_tools-0.0\n"
          ]
        }
      ]
    },
    {
      "cell_type": "code",
      "source": [
        "import newspaper\n",
        "import os\n",
        "from tqdm import tqdm\n",
        "from langdetect import detect\n",
        "import pandas as pd\n",
        "from googlesearch import search\n",
        "import newspaper"
      ],
      "metadata": {
        "id": "ZGyQxy2gl4ZH"
      },
      "execution_count": 3,
      "outputs": []
    },
    {
      "cell_type": "code",
      "source": [
        "url_list = []\n",
        "\n",
        "keyword = \"ubur-ubur pantai\"\n",
        "\n",
        "# Define blocked domains\n",
        "blocked_domains = [\"facebook.com\", \"instagram.com\", \"wikipedia.org\", \"tiktok.com\",\n",
        "                   \"youtube.com\", \"threads.net\", \"pinterest.com\"]\n",
        "\n",
        "# Search for URLs\n",
        "for s in search(keyword, num_results=500, lang='id'):\n",
        "    if not any(blocked in s for blocked in blocked_domains):\n",
        "        url_list.append(s)\n",
        "\n",
        "# Save filtered URLs to a text file\n",
        "with open('url_list.txt', 'w') as f:\n",
        "    for u in url_list:\n",
        "        f.write(f'{u}\\n')\n",
        "\n",
        "print(f\"Filtered URLs saved to 'url_list.txt'. Total: {len(url_list)} URLs.\")"
      ],
      "metadata": {
        "colab": {
          "base_uri": "https://localhost:8080/"
        },
        "id": "fyx3QI0ImQhb",
        "outputId": "261e899e-b44f-43e4-c8c9-998c308e33a0"
      },
      "execution_count": 5,
      "outputs": [
        {
          "output_type": "stream",
          "name": "stdout",
          "text": [
            "Filtered URLs saved to 'url_list.txt'. Total: 217 URLs.\n"
          ]
        }
      ]
    },
    {
      "cell_type": "code",
      "source": [
        "# Paths and constants\n",
        "URL_LIST_FILE = '/content/url_list.txt'\n",
        "EXCEL_FILE = 'articles_data.xlsx'\n",
        "DATA_PATH = 'dataset'\n",
        "\n",
        "# Ensure dataset path exists\n",
        "os.makedirs(DATA_PATH, exist_ok=True)"
      ],
      "metadata": {
        "id": "jm-aKsDUmWKU"
      },
      "execution_count": 6,
      "outputs": []
    },
    {
      "cell_type": "code",
      "source": [
        "def save_to_file(file_path, content):\n",
        "    \"\"\"Save content to a file.\"\"\"\n",
        "    with open(file_path, 'a') as file:\n",
        "        file.write(content)"
      ],
      "metadata": {
        "id": "TZVXsXOfqGHu"
      },
      "execution_count": 7,
      "outputs": []
    },
    {
      "cell_type": "code",
      "source": [
        "used_articles = []\n",
        "not_used_articles = []"
      ],
      "metadata": {
        "id": "M97MJ3IIqm0d"
      },
      "execution_count": 9,
      "outputs": []
    },
    {
      "cell_type": "code",
      "source": [
        "# Read URL list and process each\n",
        "with open(URL_LIST_FILE, 'r') as url_file:\n",
        "    for num, url in enumerate(tqdm(url_file), start=1):\n",
        "        url = url.strip()\n",
        "        try:\n",
        "            # Download and parse article\n",
        "            article = newspaper.article(url=url, language='id')\n",
        "            article.download()\n",
        "            article.parse()\n",
        "\n",
        "            text_data = article.text.strip()\n",
        "            title_data = article.title.strip()\n",
        "            lang_detect = detect(text_data) if text_data else None\n",
        "            published_date = article.publish_date\n",
        "\n",
        "            if text_data and lang_detect == 'id' and len(text_data.split()) > 2:\n",
        "                # Save article content to a file\n",
        "                file_name = os.path.join(DATA_PATH, f'Article_{num}.txt')\n",
        "\n",
        "                if not os.path.exists(file_name):\n",
        "                    with open(file_name, 'w', encoding='utf-8') as file:\n",
        "                        file.write(text_data)\n",
        "\n",
        "                used_articles.append({\n",
        "                    'URL': url,\n",
        "                    'Published Date': published_date.strftime('%Y-%m-%d') if published_date else 'Unknown'\n",
        "                })\n",
        "            else:\n",
        "                not_used_articles.append({'URL': url, 'Published Date': 'N/A'})\n",
        "\n",
        "        except Exception as e:\n",
        "            print(f'Error processing URL {url}: {e}')\n",
        "            not_used_articles.append({'URL': url, 'Published Date': 'N/A'})"
      ],
      "metadata": {
        "colab": {
          "base_uri": "https://localhost:8080/"
        },
        "id": "8wvQzg0mqPGw",
        "outputId": "7312261c-66f4-4ebf-b691-a62dc2da78fc"
      },
      "execution_count": 10,
      "outputs": [
        {
          "output_type": "stream",
          "name": "stderr",
          "text": [
            "7it [00:45,  6.08s/it]WARNING:newspaper.network:get_html_status(): bad status code 403 on URL: https://www.rri.co.id/daerah/932570/pengunjung-pantai-diimbau-tetap-waspadai-ubur-ubur, html: <!DOCTYPE html><html lang=\"en-US\"><head><title>Just a moment...</title><meta http-equiv=\"Content-Type\" content=\"text/html; charset=UTF-8\"><meta http-equiv=\"X-UA-Compatible\" content=\"IE=Edge\"><meta nam\n",
            "8it [00:46,  4.27s/it]"
          ]
        },
        {
          "output_type": "stream",
          "name": "stdout",
          "text": [
            "Error processing URL https://www.rri.co.id/daerah/932570/pengunjung-pantai-diimbau-tetap-waspadai-ubur-ubur: Article `download()` failed with Website protected with Cloudflare, url: None on URL https://www.rri.co.id/daerah/932570/pengunjung-pantai-diimbau-tetap-waspadai-ubur-ubur\n"
          ]
        },
        {
          "output_type": "stream",
          "name": "stderr",
          "text": [
            "\r9it [00:50,  4.35s/it]WARNING:newspaper.network:get_html_status(): bad status code 403 on URL: https://www.siloamhospitals.com/informasi-siloam/artikel/penanganan-tersengat-ubur-ubur, html: <!DOCTYPE HTML PUBLIC \"-//W3C//DTD HTML 4.01 Transitional//EN\" \"http://www.w3.org/TR/html4/loose.dtd\">\n",
            "<HTML><HEAD><META HTTP-EQUIV=\"Content-Type\" CONTENT=\"text/html; charset=iso-8859-1\">\n",
            "<TITLE>ERROR\n",
            "10it [00:50,  3.06s/it]"
          ]
        },
        {
          "output_type": "stream",
          "name": "stdout",
          "text": [
            "Error processing URL https://www.siloamhospitals.com/informasi-siloam/artikel/penanganan-tersengat-ubur-ubur: Article `download()` failed with Website protected with CloudFront, url: None on URL https://www.siloamhospitals.com/informasi-siloam/artikel/penanganan-tersengat-ubur-ubur\n"
          ]
        },
        {
          "output_type": "stream",
          "name": "stderr",
          "text": [
            "12it [01:01,  4.07s/it]WARNING:newspaper.network:get_html_status(): bad status code 403 on URL: https://projectmultatuli.org/serbuan-ubur-ubur-di-pantai-probolinggo-tanda-bahaya-perubahan-iklim-dan-pencemaran-sungai/, html: <!DOCTYPE html>\n",
            "<!--[if lt IE 7]> <html class=\"no-js ie6 oldie\" lang=\"en-US\"> <![endif]-->\n",
            "<!--[if IE 7]>    <html class=\"no-js ie7 oldie\" lang=\"en-US\"> <![endif]-->\n",
            "<!--[if IE 8]>    <html class=\"no-\n",
            "13it [01:01,  2.92s/it]"
          ]
        },
        {
          "output_type": "stream",
          "name": "stdout",
          "text": [
            "Error processing URL https://projectmultatuli.org/serbuan-ubur-ubur-di-pantai-probolinggo-tanda-bahaya-perubahan-iklim-dan-pencemaran-sungai/: Article `download()` failed with Website protected with Cloudflare, url: None on URL https://projectmultatuli.org/serbuan-ubur-ubur-di-pantai-probolinggo-tanda-bahaya-perubahan-iklim-dan-pencemaran-sungai/\n"
          ]
        },
        {
          "output_type": "stream",
          "name": "stderr",
          "text": [
            "16it [01:15,  3.62s/it]WARNING:newspaper.network:get_html_status(): bad status code 403 on URL: https://www.rri.co.id/kesehatan/859814/pertolongan-pertama-sengatan-ubur-ubur-di-parangtritis, html: <!DOCTYPE html><html lang=\"en-US\"><head><title>Just a moment...</title><meta http-equiv=\"Content-Type\" content=\"text/html; charset=UTF-8\"><meta http-equiv=\"X-UA-Compatible\" content=\"IE=Edge\"><meta nam\n",
            "17it [01:15,  2.63s/it]"
          ]
        },
        {
          "output_type": "stream",
          "name": "stdout",
          "text": [
            "Error processing URL https://www.rri.co.id/kesehatan/859814/pertolongan-pertama-sengatan-ubur-ubur-di-parangtritis: Article `download()` failed with Website protected with Cloudflare, url: None on URL https://www.rri.co.id/kesehatan/859814/pertolongan-pertama-sengatan-ubur-ubur-di-parangtritis\n"
          ]
        },
        {
          "output_type": "stream",
          "name": "stderr",
          "text": [
            "WARNING:newspaper.network:get_html_status(): bad status code 403 on URL: https://bobo.grid.id/read/083979401/sering-terdampar-di-pantai-ini-5-fakta-unik-ubur-ubur-bluebottle?page=all, html: <!DOCTYPE HTML PUBLIC \"-//W3C//DTD HTML 4.01 Transitional//EN\" \"http://www.w3.org/TR/html4/loose.dtd\">\n",
            "<HTML><HEAD><META HTTP-EQUIV=\"Content-Type\" CONTENT=\"text/html; charset=iso-8859-1\">\n",
            "<TITLE>ERROR\n",
            "18it [01:15,  1.94s/it]WARNING:newspaper.network:get_html_status(): bad status code 403 on URL: https://bantul.sorot.co/berita-10852-ubur-ubur-ngamuk-di-pantai-parangtritis-puluhan-wisatawan-jadi-korban.html, html: <!DOCTYPE html>\n",
            "<!--[if lt IE 7]> <html class=\"no-js ie6 oldie\" lang=\"en-US\"> <![endif]-->\n",
            "<!--[if IE 7]>    <html class=\"no-js ie7 oldie\" lang=\"en-US\"> <![endif]-->\n",
            "<!--[if IE 8]>    <html class=\"no-\n",
            "19it [01:16,  1.41s/it]"
          ]
        },
        {
          "output_type": "stream",
          "name": "stdout",
          "text": [
            "Error processing URL https://bobo.grid.id/read/083979401/sering-terdampar-di-pantai-ini-5-fakta-unik-ubur-ubur-bluebottle?page=all: Article `download()` failed with Website protected with CloudFront, url: None on URL https://bobo.grid.id/read/083979401/sering-terdampar-di-pantai-ini-5-fakta-unik-ubur-ubur-bluebottle?page=all\n",
            "Error processing URL https://bantul.sorot.co/berita-10852-ubur-ubur-ngamuk-di-pantai-parangtritis-puluhan-wisatawan-jadi-korban.html: Article `download()` failed with Website protected with Cloudflare, url: None on URL https://bantul.sorot.co/berita-10852-ubur-ubur-ngamuk-di-pantai-parangtritis-puluhan-wisatawan-jadi-korban.html\n"
          ]
        },
        {
          "output_type": "stream",
          "name": "stderr",
          "text": [
            "21it [01:21,  2.05s/it]WARNING:newspaper.network:get_html_status(): bad status code 403 on URL: https://radarjogja.jawapos.com/gunungkidul/654820514/serangan-ubur-ubur-kembali-terjadi-di-pantai-gunungkidul-sudah-ada-141-korban, html: <!DOCTYPE html><html lang=\"en-US\"><head><title>Just a moment...</title><meta http-equiv=\"Content-Type\" content=\"text/html; charset=UTF-8\"><meta http-equiv=\"X-UA-Compatible\" content=\"IE=Edge\"><meta nam\n",
            "22it [01:21,  1.51s/it]"
          ]
        },
        {
          "output_type": "stream",
          "name": "stdout",
          "text": [
            "Error processing URL https://radarjogja.jawapos.com/gunungkidul/654820514/serangan-ubur-ubur-kembali-terjadi-di-pantai-gunungkidul-sudah-ada-141-korban: Article `download()` failed with Website protected with Cloudflare, url: None on URL https://radarjogja.jawapos.com/gunungkidul/654820514/serangan-ubur-ubur-kembali-terjadi-di-pantai-gunungkidul-sudah-ada-141-korban\n"
          ]
        },
        {
          "output_type": "stream",
          "name": "stderr",
          "text": [
            "28it [01:56,  5.78s/it]WARNING:newspaper.network:get_html_status(): bad status code 403 on URL: https://radarmadiun.jawapos.com/pacitan/801733735/ubur-ubur-muncul-di-pantai-pacitan-wisatawan-diminta-waspada, html: <!DOCTYPE html><html lang=\"en-US\"><head><title>Just a moment...</title><meta http-equiv=\"Content-Type\" content=\"text/html; charset=UTF-8\"><meta http-equiv=\"X-UA-Compatible\" content=\"IE=Edge\"><meta nam\n",
            "29it [01:57,  4.09s/it]"
          ]
        },
        {
          "output_type": "stream",
          "name": "stdout",
          "text": [
            "Error processing URL https://radarmadiun.jawapos.com/pacitan/801733735/ubur-ubur-muncul-di-pantai-pacitan-wisatawan-diminta-waspada: Article `download()` failed with Website protected with Cloudflare, url: None on URL https://radarmadiun.jawapos.com/pacitan/801733735/ubur-ubur-muncul-di-pantai-pacitan-wisatawan-diminta-waspada\n"
          ]
        },
        {
          "output_type": "stream",
          "name": "stderr",
          "text": [
            "31it [02:11,  5.69s/it]WARNING:newspaper.network:get_html_status(): bad status code 403 on URL: https://jogja.tribunnews.com/2024/06/24/ubur-ubur-di-pantai-selatan-diy-berbeda-dengan-di-film-animasi-sengatannya-sebabkan-panas-dan-gatal, html: \n",
            "<!DOCTYPE html>\n",
            "<html lang=en>\n",
            "  <meta charset=\"UTF-8\">\n",
            "  <meta name=\"viewport\" content=\"width=device-width\">\n",
            "  <title>TribunNews.com - 403</title>\n",
            "  <link rel=\"shortcut icon\" href=\"https://asset-1.t\n",
            "32it [02:11,  4.03s/it]"
          ]
        },
        {
          "output_type": "stream",
          "name": "stdout",
          "text": [
            "Error processing URL https://jogja.tribunnews.com/2024/06/24/ubur-ubur-di-pantai-selatan-diy-berbeda-dengan-di-film-animasi-sengatannya-sebabkan-panas-dan-gatal: Article `download()` failed with Status code 403 for url None on URL https://jogja.tribunnews.com/2024/06/24/ubur-ubur-di-pantai-selatan-diy-berbeda-dengan-di-film-animasi-sengatannya-sebabkan-panas-dan-gatal\n"
          ]
        },
        {
          "output_type": "stream",
          "name": "stderr",
          "text": [
            "36it [02:30,  4.40s/it]WARNING:newspaper.network:get_html_status(): bad status code 403 on URL: https://nationalgeographic.grid.id/read/13308569/lautan-ubur-ubur-yang-terdampar-ditemukan-di-tepi-pantai, html: <!DOCTYPE HTML PUBLIC \"-//W3C//DTD HTML 4.01 Transitional//EN\" \"http://www.w3.org/TR/html4/loose.dtd\">\n",
            "<HTML><HEAD><META HTTP-EQUIV=\"Content-Type\" CONTENT=\"text/html; charset=iso-8859-1\">\n",
            "<TITLE>ERROR\n",
            "37it [02:30,  3.18s/it]"
          ]
        },
        {
          "output_type": "stream",
          "name": "stdout",
          "text": [
            "Error processing URL https://nationalgeographic.grid.id/read/13308569/lautan-ubur-ubur-yang-terdampar-ditemukan-di-tepi-pantai: Article `download()` failed with Website protected with CloudFront, url: None on URL https://nationalgeographic.grid.id/read/13308569/lautan-ubur-ubur-yang-terdampar-ditemukan-di-tepi-pantai\n"
          ]
        },
        {
          "output_type": "stream",
          "name": "stderr",
          "text": [
            "\r38it [02:31,  2.52s/it]WARNING:newspaper.network:get_html_status(): bad status code 403 on URL: https://jogja.tribunnews.com/2024/05/12/sejumlah-wisatawan-tersengat-ubur-ubur-di-pantai-sepanjang-gunungkidul, html: \n",
            "<!DOCTYPE html>\n",
            "<html lang=en>\n",
            "  <meta charset=\"UTF-8\">\n",
            "  <meta name=\"viewport\" content=\"width=device-width\">\n",
            "  <title>TribunNews.com - 403</title>\n",
            "  <link rel=\"shortcut icon\" href=\"https://asset-1.t\n"
          ]
        },
        {
          "output_type": "stream",
          "name": "stdout",
          "text": [
            "Error processing URL https://jogja.tribunnews.com/2024/05/12/sejumlah-wisatawan-tersengat-ubur-ubur-di-pantai-sepanjang-gunungkidul: Article `download()` failed with Status code 403 for url None on URL https://jogja.tribunnews.com/2024/05/12/sejumlah-wisatawan-tersengat-ubur-ubur-di-pantai-sepanjang-gunungkidul\n"
          ]
        },
        {
          "output_type": "stream",
          "name": "stderr",
          "text": [
            "42it [02:55,  6.05s/it]"
          ]
        },
        {
          "output_type": "stream",
          "name": "stdout",
          "text": [
            "Error processing URL https://demak.indonesiasatu.co.id/ubur-ubur-ikan-lele-hari-minggu-tetap-ngecor-le: Article `download()` failed with HTTPSConnectionPool(host='demak.indonesiasatu.co.id', port=443): Max retries exceeded with url: /ubur-ubur-ikan-lele-hari-minggu-tetap-ngecor-le (Caused by ConnectTimeoutError(<urllib3.connection.HTTPSConnection object at 0x7fc579409990>, 'Connection to demak.indonesiasatu.co.id timed out. (connect timeout=7)')) on URL https://demak.indonesiasatu.co.id/ubur-ubur-ikan-lele-hari-minggu-tetap-ngecor-le\n"
          ]
        },
        {
          "output_type": "stream",
          "name": "stderr",
          "text": [
            "48it [03:32,  4.85s/it]"
          ]
        },
        {
          "output_type": "stream",
          "name": "stdout",
          "text": [
            "Error processing URL https://demak.indonesiasatu.co.id/dandim-sudah-lama-warga-bandungrejo-berharap-ada-tmmd: Article `download()` failed with HTTPSConnectionPool(host='demak.indonesiasatu.co.id', port=443): Max retries exceeded with url: /dandim-sudah-lama-warga-bandungrejo-berharap-ada-tmmd (Caused by NewConnectionError('<urllib3.connection.HTTPSConnection object at 0x7fc5793bde90>: Failed to establish a new connection: [Errno 111] Connection refused')) on URL https://demak.indonesiasatu.co.id/dandim-sudah-lama-warga-bandungrejo-berharap-ada-tmmd\n"
          ]
        },
        {
          "output_type": "stream",
          "name": "stderr",
          "text": [
            "50it [03:43,  5.38s/it]WARNING:newspaper.network:get_html_status(): bad status code 403 on URL: https://muria.suaramerdeka.com/muria-raya/0714577570/kebijakan-lockdown-pasar-hewan-di-rembang-sukses-tekan-pmk-jual-beli-ternak-mulai-aktif-lagi, html: <!DOCTYPE html><html lang=\"en-US\"><head><title>Just a moment...</title><meta http-equiv=\"Content-Type\" content=\"text/html; charset=UTF-8\"><meta http-equiv=\"X-UA-Compatible\" content=\"IE=Edge\"><meta nam\n",
            "51it [03:43,  3.87s/it]"
          ]
        },
        {
          "output_type": "stream",
          "name": "stdout",
          "text": [
            "Error processing URL https://muria.suaramerdeka.com/muria-raya/0714577570/kebijakan-lockdown-pasar-hewan-di-rembang-sukses-tekan-pmk-jual-beli-ternak-mulai-aktif-lagi: Article `download()` failed with Website protected with Cloudflare, url: None on URL https://muria.suaramerdeka.com/muria-raya/0714577570/kebijakan-lockdown-pasar-hewan-di-rembang-sukses-tekan-pmk-jual-beli-ternak-mulai-aktif-lagi\n"
          ]
        },
        {
          "output_type": "stream",
          "name": "stderr",
          "text": [
            "55it [04:11,  5.43s/it]"
          ]
        },
        {
          "output_type": "stream",
          "name": "stdout",
          "text": [
            "Error processing URL /search?num=100: Article `download()` failed with Invalid URL '/search?num=100': No scheme supplied. Perhaps you meant https:///search?num=100? on URL /search?num=100\n"
          ]
        },
        {
          "output_type": "stream",
          "name": "stderr",
          "text": [
            "\r57it [04:14,  3.60s/it]WARNING:newspaper.network:get_html_status(): bad status code 403 on URL: https://www.siloamhospitals.com/informasi-siloam/artikel/penanganan-tersengat-ubur-ubur, html: <!DOCTYPE HTML PUBLIC \"-//W3C//DTD HTML 4.01 Transitional//EN\" \"http://www.w3.org/TR/html4/loose.dtd\">\n",
            "<HTML><HEAD><META HTTP-EQUIV=\"Content-Type\" CONTENT=\"text/html; charset=iso-8859-1\">\n",
            "<TITLE>ERROR\n",
            "58it [04:14,  2.74s/it]"
          ]
        },
        {
          "output_type": "stream",
          "name": "stdout",
          "text": [
            "Error processing URL https://www.siloamhospitals.com/informasi-siloam/artikel/penanganan-tersengat-ubur-ubur: Article `download()` failed with Website protected with CloudFront, url: None on URL https://www.siloamhospitals.com/informasi-siloam/artikel/penanganan-tersengat-ubur-ubur\n"
          ]
        },
        {
          "output_type": "stream",
          "name": "stderr",
          "text": [
            "60it [04:21,  2.86s/it]WARNING:newspaper.network:get_html_status(): bad status code 403 on URL: https://projectmultatuli.org/serbuan-ubur-ubur-di-pantai-probolinggo-tanda-bahaya-perubahan-iklim-dan-pencemaran-sungai/, html: <!DOCTYPE html>\n",
            "<!--[if lt IE 7]> <html class=\"no-js ie6 oldie\" lang=\"en-US\"> <![endif]-->\n",
            "<!--[if IE 7]>    <html class=\"no-js ie7 oldie\" lang=\"en-US\"> <![endif]-->\n",
            "<!--[if IE 8]>    <html class=\"no-\n",
            "61it [04:21,  2.11s/it]"
          ]
        },
        {
          "output_type": "stream",
          "name": "stdout",
          "text": [
            "Error processing URL https://projectmultatuli.org/serbuan-ubur-ubur-di-pantai-probolinggo-tanda-bahaya-perubahan-iklim-dan-pencemaran-sungai/: Article `download()` failed with Website protected with Cloudflare, url: None on URL https://projectmultatuli.org/serbuan-ubur-ubur-di-pantai-probolinggo-tanda-bahaya-perubahan-iklim-dan-pencemaran-sungai/\n"
          ]
        },
        {
          "output_type": "stream",
          "name": "stderr",
          "text": [
            "64it [04:33,  2.96s/it]WARNING:newspaper.network:get_html_status(): bad status code 403 on URL: https://www.rri.co.id/kesehatan/859814/pertolongan-pertama-sengatan-ubur-ubur-di-parangtritis, html: <!DOCTYPE html><html lang=\"en-US\"><head><title>Just a moment...</title><meta http-equiv=\"Content-Type\" content=\"text/html; charset=UTF-8\"><meta http-equiv=\"X-UA-Compatible\" content=\"IE=Edge\"><meta nam\n",
            "65it [04:33,  2.16s/it]WARNING:newspaper.network:get_html_status(): bad status code 403 on URL: https://bobo.grid.id/read/083979401/sering-terdampar-di-pantai-ini-5-fakta-unik-ubur-ubur-bluebottle?page=all, html: <!DOCTYPE HTML PUBLIC \"-//W3C//DTD HTML 4.01 Transitional//EN\" \"http://www.w3.org/TR/html4/loose.dtd\">\n",
            "<HTML><HEAD><META HTTP-EQUIV=\"Content-Type\" CONTENT=\"text/html; charset=iso-8859-1\">\n",
            "<TITLE>ERROR\n",
            "66it [04:33,  1.56s/it]"
          ]
        },
        {
          "output_type": "stream",
          "name": "stdout",
          "text": [
            "Error processing URL https://www.rri.co.id/kesehatan/859814/pertolongan-pertama-sengatan-ubur-ubur-di-parangtritis: Article `download()` failed with Website protected with Cloudflare, url: None on URL https://www.rri.co.id/kesehatan/859814/pertolongan-pertama-sengatan-ubur-ubur-di-parangtritis\n",
            "Error processing URL https://bobo.grid.id/read/083979401/sering-terdampar-di-pantai-ini-5-fakta-unik-ubur-ubur-bluebottle?page=all: Article `download()` failed with Website protected with CloudFront, url: None on URL https://bobo.grid.id/read/083979401/sering-terdampar-di-pantai-ini-5-fakta-unik-ubur-ubur-bluebottle?page=all\n"
          ]
        },
        {
          "output_type": "stream",
          "name": "stderr",
          "text": [
            "WARNING:newspaper.network:get_html_status(): bad status code 403 on URL: https://bantul.sorot.co/berita-10852-ubur-ubur-ngamuk-di-pantai-parangtritis-puluhan-wisatawan-jadi-korban.html, html: <!DOCTYPE html>\n",
            "<!--[if lt IE 7]> <html class=\"no-js ie6 oldie\" lang=\"en-US\"> <![endif]-->\n",
            "<!--[if IE 7]>    <html class=\"no-js ie7 oldie\" lang=\"en-US\"> <![endif]-->\n",
            "<!--[if IE 8]>    <html class=\"no-\n",
            "67it [04:33,  1.14s/it]"
          ]
        },
        {
          "output_type": "stream",
          "name": "stdout",
          "text": [
            "Error processing URL https://bantul.sorot.co/berita-10852-ubur-ubur-ngamuk-di-pantai-parangtritis-puluhan-wisatawan-jadi-korban.html: Article `download()` failed with Website protected with Cloudflare, url: None on URL https://bantul.sorot.co/berita-10852-ubur-ubur-ngamuk-di-pantai-parangtritis-puluhan-wisatawan-jadi-korban.html\n"
          ]
        },
        {
          "output_type": "stream",
          "name": "stderr",
          "text": [
            "69it [04:37,  1.57s/it]WARNING:newspaper.network:get_html_status(): bad status code 403 on URL: https://radarjogja.jawapos.com/gunungkidul/654820514/serangan-ubur-ubur-kembali-terjadi-di-pantai-gunungkidul-sudah-ada-141-korban, html: <!DOCTYPE html><html lang=\"en-US\"><head><title>Just a moment...</title><meta http-equiv=\"Content-Type\" content=\"text/html; charset=UTF-8\"><meta http-equiv=\"X-UA-Compatible\" content=\"IE=Edge\"><meta nam\n",
            "70it [04:37,  1.16s/it]"
          ]
        },
        {
          "output_type": "stream",
          "name": "stdout",
          "text": [
            "Error processing URL https://radarjogja.jawapos.com/gunungkidul/654820514/serangan-ubur-ubur-kembali-terjadi-di-pantai-gunungkidul-sudah-ada-141-korban: Article `download()` failed with Website protected with Cloudflare, url: None on URL https://radarjogja.jawapos.com/gunungkidul/654820514/serangan-ubur-ubur-kembali-terjadi-di-pantai-gunungkidul-sudah-ada-141-korban\n"
          ]
        },
        {
          "output_type": "stream",
          "name": "stderr",
          "text": [
            "76it [04:58,  3.58s/it]WARNING:newspaper.network:get_html_status(): bad status code 403 on URL: https://radarmadiun.jawapos.com/pacitan/801733735/ubur-ubur-muncul-di-pantai-pacitan-wisatawan-diminta-waspada, html: <!DOCTYPE html><html lang=\"en-US\"><head><title>Just a moment...</title><meta http-equiv=\"Content-Type\" content=\"text/html; charset=UTF-8\"><meta http-equiv=\"X-UA-Compatible\" content=\"IE=Edge\"><meta nam\n",
            "77it [04:58,  2.56s/it]"
          ]
        },
        {
          "output_type": "stream",
          "name": "stdout",
          "text": [
            "Error processing URL https://radarmadiun.jawapos.com/pacitan/801733735/ubur-ubur-muncul-di-pantai-pacitan-wisatawan-diminta-waspada: Article `download()` failed with Website protected with Cloudflare, url: None on URL https://radarmadiun.jawapos.com/pacitan/801733735/ubur-ubur-muncul-di-pantai-pacitan-wisatawan-diminta-waspada\n"
          ]
        },
        {
          "output_type": "stream",
          "name": "stderr",
          "text": [
            "79it [05:10,  4.37s/it]WARNING:newspaper.network:get_html_status(): bad status code 403 on URL: https://jogja.tribunnews.com/2024/06/24/ubur-ubur-di-pantai-selatan-diy-berbeda-dengan-di-film-animasi-sengatannya-sebabkan-panas-dan-gatal, html: \n",
            "<!DOCTYPE html>\n",
            "<html lang=en>\n",
            "  <meta charset=\"UTF-8\">\n",
            "  <meta name=\"viewport\" content=\"width=device-width\">\n",
            "  <title>TribunNews.com - 403</title>\n",
            "  <link rel=\"shortcut icon\" href=\"https://asset-1.t\n",
            "80it [05:10,  3.09s/it]"
          ]
        },
        {
          "output_type": "stream",
          "name": "stdout",
          "text": [
            "Error processing URL https://jogja.tribunnews.com/2024/06/24/ubur-ubur-di-pantai-selatan-diy-berbeda-dengan-di-film-animasi-sengatannya-sebabkan-panas-dan-gatal: Article `download()` failed with Status code 403 for url None on URL https://jogja.tribunnews.com/2024/06/24/ubur-ubur-di-pantai-selatan-diy-berbeda-dengan-di-film-animasi-sengatannya-sebabkan-panas-dan-gatal\n"
          ]
        },
        {
          "output_type": "stream",
          "name": "stderr",
          "text": [
            "84it [05:21,  2.76s/it]WARNING:newspaper.network:get_html_status(): bad status code 403 on URL: https://nationalgeographic.grid.id/read/13308569/lautan-ubur-ubur-yang-terdampar-ditemukan-di-tepi-pantai, html: <!DOCTYPE HTML PUBLIC \"-//W3C//DTD HTML 4.01 Transitional//EN\" \"http://www.w3.org/TR/html4/loose.dtd\">\n",
            "<HTML><HEAD><META HTTP-EQUIV=\"Content-Type\" CONTENT=\"text/html; charset=iso-8859-1\">\n",
            "<TITLE>ERROR\n",
            "85it [05:22,  2.03s/it]"
          ]
        },
        {
          "output_type": "stream",
          "name": "stdout",
          "text": [
            "Error processing URL https://nationalgeographic.grid.id/read/13308569/lautan-ubur-ubur-yang-terdampar-ditemukan-di-tepi-pantai: Article `download()` failed with Website protected with CloudFront, url: None on URL https://nationalgeographic.grid.id/read/13308569/lautan-ubur-ubur-yang-terdampar-ditemukan-di-tepi-pantai\n"
          ]
        },
        {
          "output_type": "stream",
          "name": "stderr",
          "text": [
            "\r86it [05:22,  1.52s/it]WARNING:newspaper.network:get_html_status(): bad status code 403 on URL: https://jogja.tribunnews.com/2024/05/12/sejumlah-wisatawan-tersengat-ubur-ubur-di-pantai-sepanjang-gunungkidul, html: \n",
            "<!DOCTYPE html>\n",
            "<html lang=en>\n",
            "  <meta charset=\"UTF-8\">\n",
            "  <meta name=\"viewport\" content=\"width=device-width\">\n",
            "  <title>TribunNews.com - 403</title>\n",
            "  <link rel=\"shortcut icon\" href=\"https://asset-1.t\n"
          ]
        },
        {
          "output_type": "stream",
          "name": "stdout",
          "text": [
            "Error processing URL https://jogja.tribunnews.com/2024/05/12/sejumlah-wisatawan-tersengat-ubur-ubur-di-pantai-sepanjang-gunungkidul: Article `download()` failed with Status code 403 for url None on URL https://jogja.tribunnews.com/2024/05/12/sejumlah-wisatawan-tersengat-ubur-ubur-di-pantai-sepanjang-gunungkidul\n"
          ]
        },
        {
          "output_type": "stream",
          "name": "stderr",
          "text": [
            "90it [05:28,  1.49s/it]"
          ]
        },
        {
          "output_type": "stream",
          "name": "stdout",
          "text": [
            "Error processing URL https://demak.indonesiasatu.co.id/ubur-ubur-ikan-lele-hari-minggu-tetap-ngecor-le: Article `download()` failed with HTTPSConnectionPool(host='demak.indonesiasatu.co.id', port=443): Max retries exceeded with url: /ubur-ubur-ikan-lele-hari-minggu-tetap-ngecor-le (Caused by NewConnectionError('<urllib3.connection.HTTPSConnection object at 0x7fc5798be150>: Failed to establish a new connection: [Errno 111] Connection refused')) on URL https://demak.indonesiasatu.co.id/ubur-ubur-ikan-lele-hari-minggu-tetap-ngecor-le\n"
          ]
        },
        {
          "output_type": "stream",
          "name": "stderr",
          "text": [
            "96it [05:53,  3.15s/it]"
          ]
        },
        {
          "output_type": "stream",
          "name": "stdout",
          "text": [
            "Error processing URL https://demak.indonesiasatu.co.id/dandim-sudah-lama-warga-bandungrejo-berharap-ada-tmmd: Article `download()` failed with HTTPSConnectionPool(host='demak.indonesiasatu.co.id', port=443): Max retries exceeded with url: /dandim-sudah-lama-warga-bandungrejo-berharap-ada-tmmd (Caused by NewConnectionError('<urllib3.connection.HTTPSConnection object at 0x7fc579442310>: Failed to establish a new connection: [Errno 111] Connection refused')) on URL https://demak.indonesiasatu.co.id/dandim-sudah-lama-warga-bandungrejo-berharap-ada-tmmd\n"
          ]
        },
        {
          "output_type": "stream",
          "name": "stderr",
          "text": [
            "98it [05:59,  3.17s/it]WARNING:newspaper.network:get_html_status(): bad status code 403 on URL: https://muria.suaramerdeka.com/muria-raya/0714577570/kebijakan-lockdown-pasar-hewan-di-rembang-sukses-tekan-pmk-jual-beli-ternak-mulai-aktif-lagi, html: <!DOCTYPE html><html lang=\"en-US\"><head><title>Just a moment...</title><meta http-equiv=\"Content-Type\" content=\"text/html; charset=UTF-8\"><meta http-equiv=\"X-UA-Compatible\" content=\"IE=Edge\"><meta nam\n",
            "99it [05:59,  2.28s/it]"
          ]
        },
        {
          "output_type": "stream",
          "name": "stdout",
          "text": [
            "Error processing URL https://muria.suaramerdeka.com/muria-raya/0714577570/kebijakan-lockdown-pasar-hewan-di-rembang-sukses-tekan-pmk-jual-beli-ternak-mulai-aktif-lagi: Article `download()` failed with Website protected with Cloudflare, url: None on URL https://muria.suaramerdeka.com/muria-raya/0714577570/kebijakan-lockdown-pasar-hewan-di-rembang-sukses-tekan-pmk-jual-beli-ternak-mulai-aktif-lagi\n"
          ]
        },
        {
          "output_type": "stream",
          "name": "stderr",
          "text": [
            "103it [06:24,  4.47s/it]"
          ]
        },
        {
          "output_type": "stream",
          "name": "stdout",
          "text": [
            "Error processing URL /search?num=100: Article `download()` failed with Invalid URL '/search?num=100': No scheme supplied. Perhaps you meant https:///search?num=100? on URL /search?num=100\n"
          ]
        },
        {
          "output_type": "stream",
          "name": "stderr",
          "text": [
            "\r105it [06:25,  2.75s/it]WARNING:newspaper.network:get_html_status(): bad status code 403 on URL: https://bobo.grid.id/read/083979401/sering-terdampar-di-pantai-ini-5-fakta-unik-ubur-ubur-bluebottle?page=all, html: <!DOCTYPE HTML PUBLIC \"-//W3C//DTD HTML 4.01 Transitional//EN\" \"http://www.w3.org/TR/html4/loose.dtd\">\n",
            "<HTML><HEAD><META HTTP-EQUIV=\"Content-Type\" CONTENT=\"text/html; charset=iso-8859-1\">\n",
            "<TITLE>ERROR\n",
            "WARNING:newspaper.network:get_html_status(): bad status code 403 on URL: https://bantul.sorot.co/berita-10852-ubur-ubur-ngamuk-di-pantai-parangtritis-puluhan-wisatawan-jadi-korban.html, html: <!DOCTYPE html>\n",
            "<!--[if lt IE 7]> <html class=\"no-js ie6 oldie\" lang=\"en-US\"> <![endif]-->\n",
            "<!--[if IE 7]>    <html class=\"no-js ie7 oldie\" lang=\"en-US\"> <![endif]-->\n",
            "<!--[if IE 8]>    <html class=\"no-\n",
            "107it [06:25,  1.70s/it]"
          ]
        },
        {
          "output_type": "stream",
          "name": "stdout",
          "text": [
            "Error processing URL https://bobo.grid.id/read/083979401/sering-terdampar-di-pantai-ini-5-fakta-unik-ubur-ubur-bluebottle?page=all: Article `download()` failed with Website protected with CloudFront, url: None on URL https://bobo.grid.id/read/083979401/sering-terdampar-di-pantai-ini-5-fakta-unik-ubur-ubur-bluebottle?page=all\n",
            "Error processing URL https://bantul.sorot.co/berita-10852-ubur-ubur-ngamuk-di-pantai-parangtritis-puluhan-wisatawan-jadi-korban.html: Article `download()` failed with Website protected with Cloudflare, url: None on URL https://bantul.sorot.co/berita-10852-ubur-ubur-ngamuk-di-pantai-parangtritis-puluhan-wisatawan-jadi-korban.html\n"
          ]
        },
        {
          "output_type": "stream",
          "name": "stderr",
          "text": [
            "112it [06:36,  2.40s/it]WARNING:newspaper.network:get_html_status(): bad status code 403 on URL: https://radarmadiun.jawapos.com/pacitan/801733735/ubur-ubur-muncul-di-pantai-pacitan-wisatawan-diminta-waspada, html: <!DOCTYPE html><html lang=\"en-US\"><head><title>Just a moment...</title><meta http-equiv=\"Content-Type\" content=\"text/html; charset=UTF-8\"><meta http-equiv=\"X-UA-Compatible\" content=\"IE=Edge\"><meta nam\n",
            "113it [06:36,  1.77s/it]"
          ]
        },
        {
          "output_type": "stream",
          "name": "stdout",
          "text": [
            "Error processing URL https://radarmadiun.jawapos.com/pacitan/801733735/ubur-ubur-muncul-di-pantai-pacitan-wisatawan-diminta-waspada: Article `download()` failed with Website protected with Cloudflare, url: None on URL https://radarmadiun.jawapos.com/pacitan/801733735/ubur-ubur-muncul-di-pantai-pacitan-wisatawan-diminta-waspada\n"
          ]
        },
        {
          "output_type": "stream",
          "name": "stderr",
          "text": [
            "116it [06:50,  3.42s/it]WARNING:newspaper.network:get_html_status(): bad status code 403 on URL: https://radarjogja.jawapos.com/gunungkidul/654644243/lima-anak-tersengat-ubur-ubur-di-pantai-sepanjang, html: <!DOCTYPE html><html lang=\"en-US\"><head><title>Just a moment...</title><meta http-equiv=\"Content-Type\" content=\"text/html; charset=UTF-8\"><meta http-equiv=\"X-UA-Compatible\" content=\"IE=Edge\"><meta nam\n",
            "117it [06:50,  2.46s/it]"
          ]
        },
        {
          "output_type": "stream",
          "name": "stdout",
          "text": [
            "Error processing URL https://radarjogja.jawapos.com/gunungkidul/654644243/lima-anak-tersengat-ubur-ubur-di-pantai-sepanjang: Article `download()` failed with Website protected with Cloudflare, url: None on URL https://radarjogja.jawapos.com/gunungkidul/654644243/lima-anak-tersengat-ubur-ubur-di-pantai-sepanjang\n"
          ]
        },
        {
          "output_type": "stream",
          "name": "stderr",
          "text": [
            "\r118it [06:56,  3.49s/it]WARNING:newspaper.network:get_html_status(): bad status code 403 on URL: https://jogja.tribunnews.com/2024/06/24/ubur-ubur-di-pantai-selatan-diy-berbeda-dengan-di-film-animasi-sengatannya-sebabkan-panas-dan-gatal, html: \n",
            "<!DOCTYPE html>\n",
            "<html lang=en>\n",
            "  <meta charset=\"UTF-8\">\n",
            "  <meta name=\"viewport\" content=\"width=device-width\">\n",
            "  <title>TribunNews.com - 403</title>\n",
            "  <link rel=\"shortcut icon\" href=\"https://asset-1.t\n"
          ]
        },
        {
          "output_type": "stream",
          "name": "stdout",
          "text": [
            "Error processing URL https://jogja.tribunnews.com/2024/06/24/ubur-ubur-di-pantai-selatan-diy-berbeda-dengan-di-film-animasi-sengatannya-sebabkan-panas-dan-gatal: Article `download()` failed with Status code 403 for url None on URL https://jogja.tribunnews.com/2024/06/24/ubur-ubur-di-pantai-selatan-diy-berbeda-dengan-di-film-animasi-sengatannya-sebabkan-panas-dan-gatal\n"
          ]
        },
        {
          "output_type": "stream",
          "name": "stderr",
          "text": [
            "123it [07:14,  3.49s/it]WARNING:newspaper.network:get_html_status(): bad status code 403 on URL: https://nationalgeographic.grid.id/read/13308569/lautan-ubur-ubur-yang-terdampar-ditemukan-di-tepi-pantai, html: <!DOCTYPE HTML PUBLIC \"-//W3C//DTD HTML 4.01 Transitional//EN\" \"http://www.w3.org/TR/html4/loose.dtd\">\n",
            "<HTML><HEAD><META HTTP-EQUIV=\"Content-Type\" CONTENT=\"text/html; charset=iso-8859-1\">\n",
            "<TITLE>ERROR\n",
            "124it [07:14,  2.55s/it]"
          ]
        },
        {
          "output_type": "stream",
          "name": "stdout",
          "text": [
            "Error processing URL https://nationalgeographic.grid.id/read/13308569/lautan-ubur-ubur-yang-terdampar-ditemukan-di-tepi-pantai: Article `download()` failed with Website protected with CloudFront, url: None on URL https://nationalgeographic.grid.id/read/13308569/lautan-ubur-ubur-yang-terdampar-ditemukan-di-tepi-pantai\n"
          ]
        },
        {
          "output_type": "stream",
          "name": "stderr",
          "text": [
            "126it [07:16,  1.70s/it]WARNING:newspaper.network:get_html_status(): bad status code 403 on URL: https://jogja.tribunnews.com/2024/05/12/sejumlah-wisatawan-tersengat-ubur-ubur-di-pantai-sepanjang-gunungkidul, html: \n",
            "<!DOCTYPE html>\n",
            "<html lang=en>\n",
            "  <meta charset=\"UTF-8\">\n",
            "  <meta name=\"viewport\" content=\"width=device-width\">\n",
            "  <title>TribunNews.com - 403</title>\n",
            "  <link rel=\"shortcut icon\" href=\"https://asset-1.t\n"
          ]
        },
        {
          "output_type": "stream",
          "name": "stdout",
          "text": [
            "Error processing URL https://jogja.tribunnews.com/2024/05/12/sejumlah-wisatawan-tersengat-ubur-ubur-di-pantai-sepanjang-gunungkidul: Article `download()` failed with Status code 403 for url None on URL https://jogja.tribunnews.com/2024/05/12/sejumlah-wisatawan-tersengat-ubur-ubur-di-pantai-sepanjang-gunungkidul\n"
          ]
        },
        {
          "output_type": "stream",
          "name": "stderr",
          "text": [
            "130it [07:23,  1.72s/it]"
          ]
        },
        {
          "output_type": "stream",
          "name": "stdout",
          "text": [
            "Error processing URL https://demak.indonesiasatu.co.id/ubur-ubur-ikan-lele-hari-minggu-tetap-ngecor-le: Article `download()` failed with HTTPSConnectionPool(host='demak.indonesiasatu.co.id', port=443): Max retries exceeded with url: /ubur-ubur-ikan-lele-hari-minggu-tetap-ngecor-le (Caused by NewConnectionError('<urllib3.connection.HTTPSConnection object at 0x7fc579437410>: Failed to establish a new connection: [Errno 111] Connection refused')) on URL https://demak.indonesiasatu.co.id/ubur-ubur-ikan-lele-hari-minggu-tetap-ngecor-le\n"
          ]
        },
        {
          "output_type": "stream",
          "name": "stderr",
          "text": [
            "136it [07:59,  4.84s/it]"
          ]
        },
        {
          "output_type": "stream",
          "name": "stdout",
          "text": [
            "Error processing URL https://demak.indonesiasatu.co.id/dandim-sudah-lama-warga-bandungrejo-berharap-ada-tmmd: Article `download()` failed with HTTPSConnectionPool(host='demak.indonesiasatu.co.id', port=443): Max retries exceeded with url: /dandim-sudah-lama-warga-bandungrejo-berharap-ada-tmmd (Caused by NewConnectionError('<urllib3.connection.HTTPSConnection object at 0x7fc579455c10>: Failed to establish a new connection: [Errno 111] Connection refused')) on URL https://demak.indonesiasatu.co.id/dandim-sudah-lama-warga-bandungrejo-berharap-ada-tmmd\n"
          ]
        },
        {
          "output_type": "stream",
          "name": "stderr",
          "text": [
            "138it [08:04,  3.93s/it]WARNING:newspaper.network:get_html_status(): bad status code 403 on URL: https://muria.suaramerdeka.com/muria-raya/0714577570/kebijakan-lockdown-pasar-hewan-di-rembang-sukses-tekan-pmk-jual-beli-ternak-mulai-aktif-lagi, html: <!DOCTYPE html><html lang=\"en-US\"><head><title>Just a moment...</title><meta http-equiv=\"Content-Type\" content=\"text/html; charset=UTF-8\"><meta http-equiv=\"X-UA-Compatible\" content=\"IE=Edge\"><meta nam\n",
            "139it [08:04,  2.82s/it]"
          ]
        },
        {
          "output_type": "stream",
          "name": "stdout",
          "text": [
            "Error processing URL https://muria.suaramerdeka.com/muria-raya/0714577570/kebijakan-lockdown-pasar-hewan-di-rembang-sukses-tekan-pmk-jual-beli-ternak-mulai-aktif-lagi: Article `download()` failed with Website protected with Cloudflare, url: None on URL https://muria.suaramerdeka.com/muria-raya/0714577570/kebijakan-lockdown-pasar-hewan-di-rembang-sukses-tekan-pmk-jual-beli-ternak-mulai-aktif-lagi\n"
          ]
        },
        {
          "output_type": "stream",
          "name": "stderr",
          "text": [
            "143it [08:37,  5.42s/it]WARNING:newspaper.network:get_html_status(): bad status code 403 on URL: https://radarmadiun.jawapos.com/pacitan/801733735/ubur-ubur-muncul-di-pantai-pacitan-wisatawan-diminta-waspada, html: <!DOCTYPE html><html lang=\"en-US\"><head><title>Just a moment...</title><meta http-equiv=\"Content-Type\" content=\"text/html; charset=UTF-8\"><meta http-equiv=\"X-UA-Compatible\" content=\"IE=Edge\"><meta nam\n",
            "145it [08:37,  2.96s/it]"
          ]
        },
        {
          "output_type": "stream",
          "name": "stdout",
          "text": [
            "Error processing URL /search?num=100: Article `download()` failed with Invalid URL '/search?num=100': No scheme supplied. Perhaps you meant https:///search?num=100? on URL /search?num=100\n",
            "Error processing URL https://radarmadiun.jawapos.com/pacitan/801733735/ubur-ubur-muncul-di-pantai-pacitan-wisatawan-diminta-waspada: Article `download()` failed with Website protected with Cloudflare, url: None on URL https://radarmadiun.jawapos.com/pacitan/801733735/ubur-ubur-muncul-di-pantai-pacitan-wisatawan-diminta-waspada\n"
          ]
        },
        {
          "output_type": "stream",
          "name": "stderr",
          "text": [
            "149it [08:55,  3.88s/it]WARNING:newspaper.network:get_html_status(): bad status code 403 on URL: https://radarjogja.jawapos.com/gunungkidul/654644243/lima-anak-tersengat-ubur-ubur-di-pantai-sepanjang, html: <!DOCTYPE html><html lang=\"en-US\"><head><title>Just a moment...</title><meta http-equiv=\"Content-Type\" content=\"text/html; charset=UTF-8\"><meta http-equiv=\"X-UA-Compatible\" content=\"IE=Edge\"><meta nam\n",
            "150it [08:55,  2.82s/it]"
          ]
        },
        {
          "output_type": "stream",
          "name": "stdout",
          "text": [
            "Error processing URL https://radarjogja.jawapos.com/gunungkidul/654644243/lima-anak-tersengat-ubur-ubur-di-pantai-sepanjang: Article `download()` failed with Website protected with Cloudflare, url: None on URL https://radarjogja.jawapos.com/gunungkidul/654644243/lima-anak-tersengat-ubur-ubur-di-pantai-sepanjang\n"
          ]
        },
        {
          "output_type": "stream",
          "name": "stderr",
          "text": [
            "\r151it [09:01,  3.57s/it]WARNING:newspaper.network:get_html_status(): bad status code 403 on URL: https://jogja.tribunnews.com/2024/06/24/ubur-ubur-di-pantai-selatan-diy-berbeda-dengan-di-film-animasi-sengatannya-sebabkan-panas-dan-gatal, html: \n",
            "<!DOCTYPE html>\n",
            "<html lang=en>\n",
            "  <meta charset=\"UTF-8\">\n",
            "  <meta name=\"viewport\" content=\"width=device-width\">\n",
            "  <title>TribunNews.com - 403</title>\n",
            "  <link rel=\"shortcut icon\" href=\"https://asset-1.t\n",
            "152it [09:01,  2.56s/it]"
          ]
        },
        {
          "output_type": "stream",
          "name": "stdout",
          "text": [
            "Error processing URL https://jogja.tribunnews.com/2024/06/24/ubur-ubur-di-pantai-selatan-diy-berbeda-dengan-di-film-animasi-sengatannya-sebabkan-panas-dan-gatal: Article `download()` failed with Status code 403 for url None on URL https://jogja.tribunnews.com/2024/06/24/ubur-ubur-di-pantai-selatan-diy-berbeda-dengan-di-film-animasi-sengatannya-sebabkan-panas-dan-gatal\n"
          ]
        },
        {
          "output_type": "stream",
          "name": "stderr",
          "text": [
            "156it [09:16,  3.17s/it]WARNING:newspaper.network:get_html_status(): bad status code 403 on URL: https://nationalgeographic.grid.id/read/13308569/lautan-ubur-ubur-yang-terdampar-ditemukan-di-tepi-pantai, html: <!DOCTYPE HTML PUBLIC \"-//W3C//DTD HTML 4.01 Transitional//EN\" \"http://www.w3.org/TR/html4/loose.dtd\">\n",
            "<HTML><HEAD><META HTTP-EQUIV=\"Content-Type\" CONTENT=\"text/html; charset=iso-8859-1\">\n",
            "<TITLE>ERROR\n",
            "157it [09:17,  2.31s/it]"
          ]
        },
        {
          "output_type": "stream",
          "name": "stdout",
          "text": [
            "Error processing URL https://nationalgeographic.grid.id/read/13308569/lautan-ubur-ubur-yang-terdampar-ditemukan-di-tepi-pantai: Article `download()` failed with Website protected with CloudFront, url: None on URL https://nationalgeographic.grid.id/read/13308569/lautan-ubur-ubur-yang-terdampar-ditemukan-di-tepi-pantai\n"
          ]
        },
        {
          "output_type": "stream",
          "name": "stderr",
          "text": [
            "159it [09:18,  1.49s/it]WARNING:newspaper.network:get_html_status(): bad status code 403 on URL: https://jogja.tribunnews.com/2024/05/12/sejumlah-wisatawan-tersengat-ubur-ubur-di-pantai-sepanjang-gunungkidul, html: \n",
            "<!DOCTYPE html>\n",
            "<html lang=en>\n",
            "  <meta charset=\"UTF-8\">\n",
            "  <meta name=\"viewport\" content=\"width=device-width\">\n",
            "  <title>TribunNews.com - 403</title>\n",
            "  <link rel=\"shortcut icon\" href=\"https://asset-1.t\n"
          ]
        },
        {
          "output_type": "stream",
          "name": "stdout",
          "text": [
            "Error processing URL https://jogja.tribunnews.com/2024/05/12/sejumlah-wisatawan-tersengat-ubur-ubur-di-pantai-sepanjang-gunungkidul: Article `download()` failed with Status code 403 for url None on URL https://jogja.tribunnews.com/2024/05/12/sejumlah-wisatawan-tersengat-ubur-ubur-di-pantai-sepanjang-gunungkidul\n"
          ]
        },
        {
          "output_type": "stream",
          "name": "stderr",
          "text": [
            "163it [09:24,  1.49s/it]"
          ]
        },
        {
          "output_type": "stream",
          "name": "stdout",
          "text": [
            "Error processing URL https://demak.indonesiasatu.co.id/ubur-ubur-ikan-lele-hari-minggu-tetap-ngecor-le: Article `download()` failed with HTTPSConnectionPool(host='demak.indonesiasatu.co.id', port=443): Max retries exceeded with url: /ubur-ubur-ikan-lele-hari-minggu-tetap-ngecor-le (Caused by NewConnectionError('<urllib3.connection.HTTPSConnection object at 0x7fc579445e10>: Failed to establish a new connection: [Errno 111] Connection refused')) on URL https://demak.indonesiasatu.co.id/ubur-ubur-ikan-lele-hari-minggu-tetap-ngecor-le\n"
          ]
        },
        {
          "output_type": "stream",
          "name": "stderr",
          "text": [
            "169it [09:49,  3.30s/it]"
          ]
        },
        {
          "output_type": "stream",
          "name": "stdout",
          "text": [
            "Error processing URL https://demak.indonesiasatu.co.id/dandim-sudah-lama-warga-bandungrejo-berharap-ada-tmmd: Article `download()` failed with HTTPSConnectionPool(host='demak.indonesiasatu.co.id', port=443): Max retries exceeded with url: /dandim-sudah-lama-warga-bandungrejo-berharap-ada-tmmd (Caused by NewConnectionError('<urllib3.connection.HTTPSConnection object at 0x7fc579418150>: Failed to establish a new connection: [Errno 111] Connection refused')) on URL https://demak.indonesiasatu.co.id/dandim-sudah-lama-warga-bandungrejo-berharap-ada-tmmd\n"
          ]
        },
        {
          "output_type": "stream",
          "name": "stderr",
          "text": [
            "171it [09:55,  3.24s/it]WARNING:newspaper.network:get_html_status(): bad status code 403 on URL: https://muria.suaramerdeka.com/muria-raya/0714577570/kebijakan-lockdown-pasar-hewan-di-rembang-sukses-tekan-pmk-jual-beli-ternak-mulai-aktif-lagi, html: <!DOCTYPE html><html lang=\"en-US\"><head><title>Just a moment...</title><meta http-equiv=\"Content-Type\" content=\"text/html; charset=UTF-8\"><meta http-equiv=\"X-UA-Compatible\" content=\"IE=Edge\"><meta nam\n",
            "172it [09:55,  2.33s/it]"
          ]
        },
        {
          "output_type": "stream",
          "name": "stdout",
          "text": [
            "Error processing URL https://muria.suaramerdeka.com/muria-raya/0714577570/kebijakan-lockdown-pasar-hewan-di-rembang-sukses-tekan-pmk-jual-beli-ternak-mulai-aktif-lagi: Article `download()` failed with Website protected with Cloudflare, url: None on URL https://muria.suaramerdeka.com/muria-raya/0714577570/kebijakan-lockdown-pasar-hewan-di-rembang-sukses-tekan-pmk-jual-beli-ternak-mulai-aktif-lagi\n"
          ]
        },
        {
          "output_type": "stream",
          "name": "stderr",
          "text": [
            "176it [10:20,  4.65s/it]"
          ]
        },
        {
          "output_type": "stream",
          "name": "stdout",
          "text": [
            "Error processing URL /search?q=ubur-ubur+pantai&num=100&safe=active&sca_esv=6cc65e3aeceb2f53&hl=id&ie=UTF-8&filter=0: Article `download()` failed with Invalid URL '/search?q=ubur-ubur+pantai&num=100&safe=active&sca_esv=6cc65e3aeceb2f53&hl=id&ie=UTF-8&filter=0': No scheme supplied. Perhaps you meant https:///search?q=ubur-ubur+pantai&num=100&safe=active&sca_esv=6cc65e3aeceb2f53&hl=id&ie=UTF-8&filter=0? on URL /search?q=ubur-ubur+pantai&num=100&safe=active&sca_esv=6cc65e3aeceb2f53&hl=id&ie=UTF-8&filter=0\n",
            "Error processing URL /search?num=100: Article `download()` failed with Invalid URL '/search?num=100': No scheme supplied. Perhaps you meant https:///search?num=100? on URL /search?num=100\n"
          ]
        },
        {
          "output_type": "stream",
          "name": "stderr",
          "text": [
            "179it [10:21,  2.23s/it]WARNING:newspaper.network:get_html_status(): bad status code 403 on URL: https://radarmadiun.jawapos.com/pacitan/801733735/ubur-ubur-muncul-di-pantai-pacitan-wisatawan-diminta-waspada, html: <!DOCTYPE html><html lang=\"en-US\"><head><title>Just a moment...</title><meta http-equiv=\"Content-Type\" content=\"text/html; charset=UTF-8\"><meta http-equiv=\"X-UA-Compatible\" content=\"IE=Edge\"><meta nam\n",
            "180it [10:21,  1.80s/it]"
          ]
        },
        {
          "output_type": "stream",
          "name": "stdout",
          "text": [
            "Error processing URL https://radarmadiun.jawapos.com/pacitan/801733735/ubur-ubur-muncul-di-pantai-pacitan-wisatawan-diminta-waspada: Article `download()` failed with Website protected with Cloudflare, url: None on URL https://radarmadiun.jawapos.com/pacitan/801733735/ubur-ubur-muncul-di-pantai-pacitan-wisatawan-diminta-waspada\n"
          ]
        },
        {
          "output_type": "stream",
          "name": "stderr",
          "text": [
            "182it [10:33,  3.63s/it]WARNING:newspaper.network:get_html_status(): bad status code 403 on URL: https://jogja.tribunnews.com/2024/06/24/ubur-ubur-di-pantai-selatan-diy-berbeda-dengan-di-film-animasi-sengatannya-sebabkan-panas-dan-gatal, html: \n",
            "<!DOCTYPE html>\n",
            "<html lang=en>\n",
            "  <meta charset=\"UTF-8\">\n",
            "  <meta name=\"viewport\" content=\"width=device-width\">\n",
            "  <title>TribunNews.com - 403</title>\n",
            "  <link rel=\"shortcut icon\" href=\"https://asset-1.t\n",
            "183it [10:33,  2.70s/it]"
          ]
        },
        {
          "output_type": "stream",
          "name": "stdout",
          "text": [
            "Error processing URL https://jogja.tribunnews.com/2024/06/24/ubur-ubur-di-pantai-selatan-diy-berbeda-dengan-di-film-animasi-sengatannya-sebabkan-panas-dan-gatal: Article `download()` failed with Status code 403 for url None on URL https://jogja.tribunnews.com/2024/06/24/ubur-ubur-di-pantai-selatan-diy-berbeda-dengan-di-film-animasi-sengatannya-sebabkan-panas-dan-gatal\n"
          ]
        },
        {
          "output_type": "stream",
          "name": "stderr",
          "text": [
            "187it [10:46,  3.17s/it]WARNING:newspaper.network:get_html_status(): bad status code 403 on URL: https://nationalgeographic.grid.id/read/13308569/lautan-ubur-ubur-yang-terdampar-ditemukan-di-tepi-pantai, html: <!DOCTYPE HTML PUBLIC \"-//W3C//DTD HTML 4.01 Transitional//EN\" \"http://www.w3.org/TR/html4/loose.dtd\">\n",
            "<HTML><HEAD><META HTTP-EQUIV=\"Content-Type\" CONTENT=\"text/html; charset=iso-8859-1\">\n",
            "<TITLE>ERROR\n",
            "188it [10:46,  2.28s/it]"
          ]
        },
        {
          "output_type": "stream",
          "name": "stdout",
          "text": [
            "Error processing URL https://nationalgeographic.grid.id/read/13308569/lautan-ubur-ubur-yang-terdampar-ditemukan-di-tepi-pantai: Article `download()` failed with Website protected with CloudFront, url: None on URL https://nationalgeographic.grid.id/read/13308569/lautan-ubur-ubur-yang-terdampar-ditemukan-di-tepi-pantai\n"
          ]
        },
        {
          "output_type": "stream",
          "name": "stderr",
          "text": [
            "\r189it [10:47,  1.81s/it]WARNING:newspaper.network:get_html_status(): bad status code 403 on URL: https://jogja.tribunnews.com/2024/05/12/sejumlah-wisatawan-tersengat-ubur-ubur-di-pantai-sepanjang-gunungkidul, html: \n",
            "<!DOCTYPE html>\n",
            "<html lang=en>\n",
            "  <meta charset=\"UTF-8\">\n",
            "  <meta name=\"viewport\" content=\"width=device-width\">\n",
            "  <title>TribunNews.com - 403</title>\n",
            "  <link rel=\"shortcut icon\" href=\"https://asset-1.t\n"
          ]
        },
        {
          "output_type": "stream",
          "name": "stdout",
          "text": [
            "Error processing URL https://jogja.tribunnews.com/2024/05/12/sejumlah-wisatawan-tersengat-ubur-ubur-di-pantai-sepanjang-gunungkidul: Article `download()` failed with Status code 403 for url None on URL https://jogja.tribunnews.com/2024/05/12/sejumlah-wisatawan-tersengat-ubur-ubur-di-pantai-sepanjang-gunungkidul\n"
          ]
        },
        {
          "output_type": "stream",
          "name": "stderr",
          "text": [
            "193it [10:55,  1.86s/it]"
          ]
        },
        {
          "output_type": "stream",
          "name": "stdout",
          "text": [
            "Error processing URL https://demak.indonesiasatu.co.id/ubur-ubur-ikan-lele-hari-minggu-tetap-ngecor-le: Article `download()` failed with HTTPSConnectionPool(host='demak.indonesiasatu.co.id', port=443): Max retries exceeded with url: /ubur-ubur-ikan-lele-hari-minggu-tetap-ngecor-le (Caused by NewConnectionError('<urllib3.connection.HTTPSConnection object at 0x7fc579423290>: Failed to establish a new connection: [Errno 111] Connection refused')) on URL https://demak.indonesiasatu.co.id/ubur-ubur-ikan-lele-hari-minggu-tetap-ngecor-le\n"
          ]
        },
        {
          "output_type": "stream",
          "name": "stderr",
          "text": [
            "199it [11:22,  3.45s/it]"
          ]
        },
        {
          "output_type": "stream",
          "name": "stdout",
          "text": [
            "Error processing URL https://demak.indonesiasatu.co.id/dandim-sudah-lama-warga-bandungrejo-berharap-ada-tmmd: Article `download()` failed with HTTPSConnectionPool(host='demak.indonesiasatu.co.id', port=443): Max retries exceeded with url: /dandim-sudah-lama-warga-bandungrejo-berharap-ada-tmmd (Caused by NewConnectionError('<urllib3.connection.HTTPSConnection object at 0x7fc5792dd210>: Failed to establish a new connection: [Errno 111] Connection refused')) on URL https://demak.indonesiasatu.co.id/dandim-sudah-lama-warga-bandungrejo-berharap-ada-tmmd\n"
          ]
        },
        {
          "output_type": "stream",
          "name": "stderr",
          "text": [
            "201it [11:28,  3.58s/it]WARNING:newspaper.network:get_html_status(): bad status code 403 on URL: https://muria.suaramerdeka.com/muria-raya/0714577570/kebijakan-lockdown-pasar-hewan-di-rembang-sukses-tekan-pmk-jual-beli-ternak-mulai-aktif-lagi, html: <!DOCTYPE html><html lang=\"en-US\"><head><title>Just a moment...</title><meta http-equiv=\"Content-Type\" content=\"text/html; charset=UTF-8\"><meta http-equiv=\"X-UA-Compatible\" content=\"IE=Edge\"><meta nam\n",
            "202it [11:28,  2.57s/it]"
          ]
        },
        {
          "output_type": "stream",
          "name": "stdout",
          "text": [
            "Error processing URL https://muria.suaramerdeka.com/muria-raya/0714577570/kebijakan-lockdown-pasar-hewan-di-rembang-sukses-tekan-pmk-jual-beli-ternak-mulai-aktif-lagi: Article `download()` failed with Website protected with Cloudflare, url: None on URL https://muria.suaramerdeka.com/muria-raya/0714577570/kebijakan-lockdown-pasar-hewan-di-rembang-sukses-tekan-pmk-jual-beli-ternak-mulai-aktif-lagi\n"
          ]
        },
        {
          "output_type": "stream",
          "name": "stderr",
          "text": [
            "206it [11:53,  4.60s/it]"
          ]
        },
        {
          "output_type": "stream",
          "name": "stdout",
          "text": [
            "Error processing URL /search?q=ubur-ubur+pantai&num=100&safe=active&sca_esv=6cc65e3aeceb2f53&hl=id&ie=UTF-8&filter=0: Article `download()` failed with Invalid URL '/search?q=ubur-ubur+pantai&num=100&safe=active&sca_esv=6cc65e3aeceb2f53&hl=id&ie=UTF-8&filter=0': No scheme supplied. Perhaps you meant https:///search?q=ubur-ubur+pantai&num=100&safe=active&sca_esv=6cc65e3aeceb2f53&hl=id&ie=UTF-8&filter=0? on URL /search?q=ubur-ubur+pantai&num=100&safe=active&sca_esv=6cc65e3aeceb2f53&hl=id&ie=UTF-8&filter=0\n",
            "Error processing URL /search?num=100: Article `download()` failed with Invalid URL '/search?num=100': No scheme supplied. Perhaps you meant https:///search?num=100? on URL /search?num=100\n"
          ]
        },
        {
          "output_type": "stream",
          "name": "stderr",
          "text": [
            "\r209it [11:55,  2.42s/it]WARNING:newspaper.network:get_html_status(): bad status code 403 on URL: https://nationalgeographic.grid.id/read/13308569/lautan-ubur-ubur-yang-terdampar-ditemukan-di-tepi-pantai, html: <!DOCTYPE HTML PUBLIC \"-//W3C//DTD HTML 4.01 Transitional//EN\" \"http://www.w3.org/TR/html4/loose.dtd\">\n",
            "<HTML><HEAD><META HTTP-EQUIV=\"Content-Type\" CONTENT=\"text/html; charset=iso-8859-1\">\n",
            "<TITLE>ERROR\n",
            "210it [11:56,  1.98s/it]"
          ]
        },
        {
          "output_type": "stream",
          "name": "stdout",
          "text": [
            "Error processing URL https://nationalgeographic.grid.id/read/13308569/lautan-ubur-ubur-yang-terdampar-ditemukan-di-tepi-pantai: Article `download()` failed with Website protected with CloudFront, url: None on URL https://nationalgeographic.grid.id/read/13308569/lautan-ubur-ubur-yang-terdampar-ditemukan-di-tepi-pantai\n"
          ]
        },
        {
          "output_type": "stream",
          "name": "stderr",
          "text": [
            "\r211it [11:56,  1.62s/it]WARNING:newspaper.network:get_html_status(): bad status code 403 on URL: https://jogja.tribunnews.com/2024/05/12/sejumlah-wisatawan-tersengat-ubur-ubur-di-pantai-sepanjang-gunungkidul, html: \n",
            "<!DOCTYPE html>\n",
            "<html lang=en>\n",
            "  <meta charset=\"UTF-8\">\n",
            "  <meta name=\"viewport\" content=\"width=device-width\">\n",
            "  <title>TribunNews.com - 403</title>\n",
            "  <link rel=\"shortcut icon\" href=\"https://asset-1.t\n",
            "212it [11:56,  1.24s/it]"
          ]
        },
        {
          "output_type": "stream",
          "name": "stdout",
          "text": [
            "Error processing URL https://jogja.tribunnews.com/2024/05/12/sejumlah-wisatawan-tersengat-ubur-ubur-di-pantai-sepanjang-gunungkidul: Article `download()` failed with Status code 403 for url None on URL https://jogja.tribunnews.com/2024/05/12/sejumlah-wisatawan-tersengat-ubur-ubur-di-pantai-sepanjang-gunungkidul\n"
          ]
        },
        {
          "output_type": "stream",
          "name": "stderr",
          "text": [
            "215it [12:03,  1.71s/it]"
          ]
        },
        {
          "output_type": "stream",
          "name": "stdout",
          "text": [
            "Error processing URL https://demak.indonesiasatu.co.id/ubur-ubur-ikan-lele-hari-minggu-tetap-ngecor-le: Article `download()` failed with HTTPSConnectionPool(host='demak.indonesiasatu.co.id', port=443): Max retries exceeded with url: /ubur-ubur-ikan-lele-hari-minggu-tetap-ngecor-le (Caused by NewConnectionError('<urllib3.connection.HTTPSConnection object at 0x7fc579897b10>: Failed to establish a new connection: [Errno 111] Connection refused')) on URL https://demak.indonesiasatu.co.id/ubur-ubur-ikan-lele-hari-minggu-tetap-ngecor-le\n"
          ]
        },
        {
          "output_type": "stream",
          "name": "stderr",
          "text": [
            "217it [12:14,  3.39s/it]\n"
          ]
        }
      ]
    },
    {
      "cell_type": "code",
      "source": [
        "!pip install xlsxwriter"
      ],
      "metadata": {
        "colab": {
          "base_uri": "https://localhost:8080/"
        },
        "id": "cvnwQs_hqPyI",
        "outputId": "37bcf6c3-2e5f-48dd-9507-c78c67ca85c6"
      },
      "execution_count": 11,
      "outputs": [
        {
          "output_type": "stream",
          "name": "stdout",
          "text": [
            "Collecting xlsxwriter\n",
            "  Downloading XlsxWriter-3.2.2-py3-none-any.whl.metadata (2.8 kB)\n",
            "Downloading XlsxWriter-3.2.2-py3-none-any.whl (165 kB)\n",
            "\u001b[?25l   \u001b[90m━━━━━━━━━━━━━━━━━━━━━━━━━━━━━━━━━━━━━━━━\u001b[0m \u001b[32m0.0/165.1 kB\u001b[0m \u001b[31m?\u001b[0m eta \u001b[36m-:--:--\u001b[0m\r\u001b[2K   \u001b[91m━━━━━━━━━━━━━━━━━━━━━━━━━━━━━━━━━━━━━━━\u001b[0m\u001b[91m╸\u001b[0m \u001b[32m163.8/165.1 kB\u001b[0m \u001b[31m6.1 MB/s\u001b[0m eta \u001b[36m0:00:01\u001b[0m\r\u001b[2K   \u001b[90m━━━━━━━━━━━━━━━━━━━━━━━━━━━━━━━━━━━━━━━━\u001b[0m \u001b[32m165.1/165.1 kB\u001b[0m \u001b[31m4.3 MB/s\u001b[0m eta \u001b[36m0:00:00\u001b[0m\n",
            "\u001b[?25hInstalling collected packages: xlsxwriter\n",
            "Successfully installed xlsxwriter-3.2.2\n"
          ]
        }
      ]
    },
    {
      "cell_type": "code",
      "source": [
        "# Save data to Excel\n",
        "with pd.ExcelWriter(EXCEL_FILE, engine='xlsxwriter') as writer:\n",
        "    # Save successfully processed articles\n",
        "    if used_articles:\n",
        "        df_used = pd.DataFrame(used_articles)\n",
        "        df_used.to_excel(writer, sheet_name='Downloaded Articles', index=False)\n",
        "\n",
        "    # Save failed articles\n",
        "    if not_used_articles:\n",
        "        df_not_used = pd.DataFrame(not_used_articles)\n",
        "        df_not_used.to_excel(writer, sheet_name='Failed Articles', index=False)\n",
        "\n",
        "print(f\"Data has been saved to {EXCEL_FILE}.\")"
      ],
      "metadata": {
        "colab": {
          "base_uri": "https://localhost:8080/"
        },
        "id": "yjPAdVa0qTfN",
        "outputId": "ae403dc7-8aa1-4d8b-e520-9f8f1bda7953"
      },
      "execution_count": 12,
      "outputs": [
        {
          "output_type": "stream",
          "name": "stdout",
          "text": [
            "Data has been saved to articles_data.xlsx.\n"
          ]
        }
      ]
    },
    {
      "cell_type": "code",
      "source": [
        "!zip -r dataset.zip dataset/"
      ],
      "metadata": {
        "colab": {
          "base_uri": "https://localhost:8080/"
        },
        "id": "EjfXhsyYqV2V",
        "outputId": "c2d57c8c-1c71-4664-beb5-c38360d0fccd"
      },
      "execution_count": 13,
      "outputs": [
        {
          "output_type": "stream",
          "name": "stdout",
          "text": [
            "  adding: dataset/ (stored 0%)\n",
            "  adding: dataset/Article_213.txt (deflated 56%)\n",
            "  adding: dataset/Article_74.txt (deflated 56%)\n",
            "  adding: dataset/Article_164.txt (deflated 54%)\n",
            "  adding: dataset/Article_162.txt (deflated 51%)\n",
            "  adding: dataset/Article_86.txt (deflated 52%)\n",
            "  adding: dataset/Article_62.txt (deflated 56%)\n",
            "  adding: dataset/Article_201.txt (deflated 43%)\n",
            "  adding: dataset/Article_54.txt (deflated 53%)\n",
            "  adding: dataset/Article_7.txt (deflated 61%)\n",
            "  adding: dataset/Article_204.txt (deflated 20%)\n",
            "  adding: dataset/Article_11.txt (deflated 55%)\n",
            "  adding: dataset/Article_123.txt (deflated 52%)\n",
            "  adding: dataset/Article_1.txt (deflated 57%)\n",
            "  adding: dataset/Article_95.txt (deflated 56%)\n",
            "  adding: dataset/Article_211.txt (deflated 52%)\n",
            "  adding: dataset/Article_6.txt (deflated 58%)\n",
            "  adding: dataset/Article_143.txt (deflated 44%)\n",
            "  adding: dataset/Article_132.txt (deflated 48%)\n",
            "  adding: dataset/Article_69.txt (deflated 58%)\n",
            "  adding: dataset/Article_83.txt (deflated 39%)\n",
            "  adding: dataset/Article_134.txt (deflated 58%)\n",
            "  adding: dataset/Article_100.txt (deflated 52%)\n",
            "  adding: dataset/Article_23.txt (deflated 50%)\n",
            "  adding: dataset/Article_81.txt (deflated 59%)\n",
            "  adding: dataset/Article_12.txt (deflated 55%)\n",
            "  adding: dataset/Article_40.txt (deflated 56%)\n",
            "  adding: dataset/Article_64.txt (deflated 61%)\n",
            "  adding: dataset/Article_189.txt (deflated 52%)\n",
            "  adding: dataset/Article_84.txt (deflated 52%)\n",
            "  adding: dataset/Article_174.txt (deflated 20%)\n",
            "  adding: dataset/Article_55.txt (deflated 44%)\n",
            "  adding: dataset/Article_195.txt (deflated 48%)\n",
            "  adding: dataset/Article_151.txt (deflated 24%)\n",
            "  adding: dataset/Article_131.txt (deflated 54%)\n",
            "  adding: dataset/Article_137.txt (deflated 57%)\n",
            "  adding: dataset/Article_181.txt (deflated 24%)\n",
            "  adding: dataset/Article_171.txt (deflated 43%)\n",
            "  adding: dataset/Article_49.txt (deflated 57%)\n",
            "  adding: dataset/Article_128.txt (deflated 56%)\n",
            "  adding: dataset/Article_168.txt (deflated 56%)\n",
            "  adding: dataset/Article_14.txt (deflated 56%)\n",
            "  adding: dataset/Article_191.txt (deflated 56%)\n",
            "  adding: dataset/Article_82.txt (deflated 52%)\n",
            "  adding: dataset/Article_175.txt (deflated 53%)\n",
            "  adding: dataset/Article_158.txt (deflated 52%)\n",
            "  adding: dataset/Article_98.txt (deflated 43%)\n",
            "  adding: dataset/Article_20.txt (deflated 51%)\n",
            "  adding: dataset/Article_214.txt (deflated 51%)\n",
            "  adding: dataset/Article_197.txt (deflated 58%)\n",
            "  adding: dataset/Article_4.txt (deflated 58%)\n",
            "  adding: dataset/Article_209.txt (deflated 52%)\n",
            "  adding: dataset/Article_44.txt (deflated 48%)\n",
            "  adding: dataset/Article_21.txt (deflated 58%)\n",
            "  adding: dataset/Article_194.txt (deflated 54%)\n",
            "  adding: dataset/Article_73.txt (deflated 57%)\n",
            "  adding: dataset/Article_46.txt (deflated 58%)\n",
            "  adding: dataset/Article_198.txt (deflated 56%)\n",
            "  adding: dataset/Article_147.txt (deflated 56%)\n",
            "  adding: dataset/Article_52.txt (deflated 52%)\n",
            "  adding: dataset/Article_120.txt (deflated 54%)\n",
            "  adding: dataset/Article_196.txt (deflated 50%)\n",
            "  adding: dataset/Article_184.txt (deflated 59%)\n",
            "  adding: dataset/Article_185.txt (deflated 52%)\n",
            "  adding: dataset/Article_3.txt (deflated 58%)\n",
            "  adding: dataset/Article_159.txt (deflated 39%)\n",
            "  adding: dataset/Article_167.txt (deflated 58%)\n",
            "  adding: dataset/Article_192.txt (deflated 51%)\n",
            "  adding: dataset/Article_26.txt (deflated 56%)\n",
            "  adding: dataset/Article_206.txt (deflated 44%)\n",
            "  adding: dataset/Article_154.txt (deflated 59%)\n",
            "  adding: dataset/Article_153.txt (deflated 54%)\n",
            "  adding: dataset/Article_72.txt (deflated 52%)\n",
            "  adding: dataset/Article_30.txt (deflated 24%)\n",
            "  adding: dataset/Article_93.txt (deflated 50%)\n",
            "  adding: dataset/Article_182.txt (deflated 54%)\n",
            "  adding: dataset/Article_114.txt (deflated 56%)\n",
            "  adding: dataset/Article_47.txt (deflated 56%)\n",
            "  adding: dataset/Article_9.txt (deflated 59%)\n",
            "  adding: dataset/Article_71.txt (deflated 50%)\n",
            "  adding: dataset/Article_15.txt (deflated 58%)\n",
            "  adding: dataset/Article_129.txt (deflated 51%)\n",
            "  adding: dataset/Article_217.txt (deflated 48%)\n",
            "  adding: dataset/Article_97.txt (deflated 57%)\n",
            "  adding: dataset/Article_60.txt (deflated 55%)\n",
            "  adding: dataset/Article_165.txt (deflated 48%)\n",
            "  adding: dataset/Article_33.txt (deflated 59%)\n",
            "  adding: dataset/Article_2.txt (deflated 56%)\n",
            "  adding: dataset/Article_142.txt (deflated 53%)\n",
            "  adding: dataset/Article_176.txt (deflated 44%)\n",
            "  adding: dataset/Article_36.txt (deflated 52%)\n",
            "  adding: dataset/Article_94.txt (deflated 58%)\n",
            "  adding: dataset/Article_126.txt (deflated 39%)\n",
            "  adding: dataset/Article_108.txt (deflated 51%)\n",
            "  adding: dataset/Article_101.txt (deflated 20%)\n",
            "  adding: dataset/Article_53.txt (deflated 20%)\n",
            "  adding: dataset/Article_111.txt (deflated 50%)\n",
            "  adding: dataset/Article_146.txt (deflated 57%)\n",
            "  adding: dataset/Article_103.txt (deflated 44%)\n",
            "  adding: dataset/Article_45.txt (deflated 50%)\n",
            "  adding: dataset/Article_118.txt (deflated 24%)\n",
            "  adding: dataset/Article_68.txt (deflated 51%)\n",
            "  adding: dataset/Article_50.txt (deflated 43%)\n",
            "  adding: dataset/Article_38.txt (deflated 52%)\n",
            "  adding: dataset/Article_186.txt (deflated 39%)\n",
            "  adding: dataset/Article_34.txt (deflated 52%)\n",
            "  adding: dataset/Article_112.txt (deflated 57%)\n",
            "  adding: dataset/Article_140.txt (deflated 52%)\n",
            "  adding: dataset/Article_5.txt (deflated 59%)\n",
            "  adding: dataset/Article_78.txt (deflated 24%)\n",
            "  adding: dataset/Article_125.txt (deflated 52%)\n",
            "  adding: dataset/Article_187.txt (deflated 52%)\n",
            "  adding: dataset/Article_141.txt (deflated 20%)\n",
            "  adding: dataset/Article_110.txt (deflated 52%)\n",
            "  adding: dataset/Article_79.txt (deflated 54%)\n",
            "  adding: dataset/Article_31.txt (deflated 54%)\n",
            "  adding: dataset/Article_166.txt (deflated 50%)\n",
            "  adding: dataset/Article_25.txt (deflated 57%)\n",
            "  adding: dataset/Article_43.txt (deflated 54%)\n",
            "  adding: dataset/Article_41.txt (deflated 51%)\n",
            "  adding: dataset/Article_138.txt (deflated 43%)\n",
            "  adding: dataset/Article_216.txt (deflated 54%)\n",
            "  adding: dataset/Article_161.txt (deflated 56%)\n",
            "  adding: dataset/Article_155.txt (deflated 52%)\n",
            "  adding: dataset/Article_24.txt (deflated 52%)\n",
            "  adding: dataset/Article_59.txt (deflated 55%)\n",
            "  adding: dataset/Article_135.txt (deflated 56%)\n",
            "  adding: dataset/Article_170.txt (deflated 57%)\n",
            "  adding: dataset/Article_92.txt (deflated 48%)\n",
            "  adding: dataset/Article_109.txt (deflated 58%)\n",
            "  adding: dataset/Article_88.txt (deflated 56%)\n",
            "  adding: dataset/Article_156.txt (deflated 52%)\n",
            "  adding: dataset/Article_105.txt (deflated 61%)\n",
            "  adding: dataset/Article_102.txt (deflated 53%)\n",
            "  adding: dataset/Article_89.txt (deflated 51%)\n",
            "  adding: dataset/Article_205.txt (deflated 53%)\n",
            "  adding: dataset/Article_91.txt (deflated 54%)\n",
            "  adding: dataset/Article_200.txt (deflated 57%)\n",
            "  adding: dataset/Article_16.txt (deflated 61%)\n",
            "  adding: dataset/Article_173.txt (deflated 52%)\n",
            "  adding: dataset/Article_57.txt (deflated 59%)\n",
            "  adding: dataset/Article_35.txt (deflated 39%)\n",
            "  adding: dataset/Article_121.txt (deflated 59%)\n",
            "  adding: dataset/Article_63.txt (deflated 58%)\n",
            "  adding: dataset/Article_133.txt (deflated 50%)\n",
            "  adding: dataset/Article_122.txt (deflated 52%)\n",
            "  adding: dataset/Article_203.txt (deflated 52%)\n"
          ]
        }
      ]
    },
    {
      "cell_type": "code",
      "source": [],
      "metadata": {
        "id": "p9EisNvrtrUK"
      },
      "execution_count": null,
      "outputs": []
    }
  ]
}